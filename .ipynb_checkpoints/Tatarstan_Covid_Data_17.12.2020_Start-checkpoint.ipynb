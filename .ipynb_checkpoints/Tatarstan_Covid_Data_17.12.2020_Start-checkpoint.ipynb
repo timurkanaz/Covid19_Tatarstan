{
 "cells": [
  {
   "cell_type": "code",
   "execution_count": 5,
   "metadata": {},
   "outputs": [],
   "source": [
    "import requests as r\n",
    "from bs4 import BeautifulSoup\n",
    "import pandas as pd\n",
    "import re\n",
    "import folium\n",
    "import geopandas as gpd\n",
    "from datetime import datetime as dt\n",
    "import numpy as np"
   ]
  },
  {
   "cell_type": "code",
   "execution_count": 7,
   "metadata": {},
   "outputs": [],
   "source": [
    "raw_data=r.get(\"https://prokazan-ru.turbopages.org/prokazan.ru/s/news/view/142788\").text\n",
    "soup=BeautifulSoup(raw_data)\n",
    "distrs=soup.find_all(\"p\",{\"class\":\"paragraph unit unit_text_m\"})[2:5]\n",
    "megadict={}\n",
    "\n",
    "\n",
    "for distr in distrs:\n",
    "    regs=re.findall(r\"\\d+\\)\\s?[а-я–\\-А-Я]+\\s?[–-]\\s?\\d+\",distr.text)\n",
    "    cases=[re.search(r\"\\d+\\)\\s?[а-я–\\-А-Я]+\\s?[–-]\\s?(\\d+)\",i).group(1) for i in regs]\n",
    "    names=[re.search(r\"\\d+\\)\\s?([а-я–\\-А-Я]+)\\s?[–-]\\s?(\\d+)\",i).group(1) for i in regs]\n",
    "    for ind,val in enumerate(names):\n",
    "        megadict[val]=cases[ind]\n",
    "\n",
    "megadict.update({\"Казань\":6597})\n",
    "megadict.update({\"Набережные Челны\":1207})\n",
    "data=pd.DataFrame([megadict.keys(),megadict.values()]).T\n",
    "data.columns=[\"Район\",\"Случаи\"]\n",
    "data[\"Случаи\"]=data[\"Случаи\"].astype(\"int\")\n",
    "data.to_excel(r\"C:/Users/timna/Covid_WebSite/Data/Covid19_17.12.2020.xlsx\",index=False)"
   ]
  },
  {
   "cell_type": "code",
   "execution_count": 9,
   "metadata": {},
   "outputs": [],
   "source": [
    "geo_data=gpd.read_file(r\"C:/Users/timna/Russia_geojson_OSM\\GeoJson's\\Regions\\PFO\\Республика Татарстан_Tatarstan.geojson\")\n",
    "covid_data=pd.read_excel(\"C:/Users/timna/Covid_WebSite/Data/Covid19_17.12.2020.xlsx\")"
   ]
  },
  {
   "cell_type": "code",
   "execution_count": 10,
   "metadata": {},
   "outputs": [],
   "source": [
    "covid_data[\"Район\"]=[i+\" район\" if i not in [\"Казань\",\"Набережные Челны\"] else \"городской округ \"+i for i in covid_data[\"Район\"]]"
   ]
  },
  {
   "cell_type": "code",
   "execution_count": 11,
   "metadata": {},
   "outputs": [],
   "source": [
    "final_data=geo_data.merge(covid_data,right_on='Район',left_on='district')[[\"district\",\"geometry\",\"Случаи\"]]"
   ]
  },
  {
   "cell_type": "code",
   "execution_count": 12,
   "metadata": {},
   "outputs": [],
   "source": [
    "m=folium.Map([55.4152363,50.8576256],zoom_start=7,zoom_control=False,\n",
    "               scrollWheelZoom=False,\n",
    "               dragging=False)"
   ]
  },
  {
   "cell_type": "code",
   "execution_count": 13,
   "metadata": {},
   "outputs": [],
   "source": [
    "q=list(np.quantile(final_data[\"Случаи\"],[0.25,0.5,0.75,0.98]))"
   ]
  },
  {
   "cell_type": "code",
   "execution_count": 14,
   "metadata": {},
   "outputs": [
    {
     "data": {
      "text/plain": [
       "[29.0, 61.0, 157.0, 1853.799999999986]"
      ]
     },
     "execution_count": 14,
     "metadata": {},
     "output_type": "execute_result"
    }
   ],
   "source": [
    "q"
   ]
  },
  {
   "cell_type": "code",
   "execution_count": 15,
   "metadata": {},
   "outputs": [
    {
     "data": {
      "text/plain": [
       "<folium.features.GeoJson at 0x186d9c6f5b0>"
      ]
     },
     "execution_count": 15,
     "metadata": {},
     "output_type": "execute_result"
    }
   ],
   "source": [
    "palette=[]\n",
    "for val in final_data.itertuples():\n",
    "    if val[-1]<q[0]:\n",
    "        palette.append(\"#faa307\")\n",
    "    elif val[-1]>=q[0] and val[-1]<q[1]:\n",
    "        palette.append(\"#e85d04\")\n",
    "    elif val[-1]>=q[1] and val[-1]<q[2]:\n",
    "        palette.append(\"#d00000\")\n",
    "    elif val[-1]>=q[2] and val[-1]<q[3]:\n",
    "        palette.append(\"#6a040f\")\n",
    "    elif val[-1]>=q[3]:\n",
    "        palette.append(\"#03071e\")\n",
    "\n",
    "\n",
    "final_data[\"Color\"]=palette\n",
    "\n",
    "folium.GeoJson(final_data[[\"district\",\"geometry\",\"Случаи\",\"Color\"]].to_json(),style_function=lambda x: {'fillColor':x[\"properties\"][\"Color\"],\n",
    "                                                         'fillOpacity': 0.9, 'opacity': 0.7},\n",
    "                           highlight_function=lambda x: {\"fillOpacity\": 0.3, \"opacity\": 0.3},\n",
    "                           tooltip=folium.features.GeoJsonTooltip(fields=[\"district\",\"Случаи\"],aliases=[\"Район:\",\"Случаев:\"])).add_to(m)\n",
    "\n",
    "\n",
    "\n",
    "\n"
   ]
  },
  {
   "cell_type": "code",
   "execution_count": 17,
   "metadata": {},
   "outputs": [],
   "source": [
    "m.save(\"C:/Users/timna/Covid_WebSite/Maps/index_17.12.2020.html\")"
   ]
  },
  {
   "cell_type": "code",
   "execution_count": null,
   "metadata": {},
   "outputs": [],
   "source": []
  }
 ],
 "metadata": {
  "kernelspec": {
   "display_name": "Python 3",
   "language": "python",
   "name": "python3"
  },
  "language_info": {
   "codemirror_mode": {
    "name": "ipython",
    "version": 3
   },
   "file_extension": ".py",
   "mimetype": "text/x-python",
   "name": "python",
   "nbconvert_exporter": "python",
   "pygments_lexer": "ipython3",
   "version": "3.8.3"
  }
 },
 "nbformat": 4,
 "nbformat_minor": 4
}
